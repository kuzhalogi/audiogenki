{
 "cells": [
  {
   "cell_type": "markdown",
   "metadata": {},
   "source": [
    "Loading spectograms from .npy files"
   ]
  },
  {
   "cell_type": "code",
   "execution_count": 3,
   "metadata": {},
   "outputs": [],
   "source": [
    "import numpy as np\n",
    "import os\n",
    "\n",
    "# Define the directory where the spectrograms are saved\n",
    "spectrograms_dir = \"/home/kuzhalogi/WorkSpace/audiogen/fsdd/spectograms\"\n",
    "\n",
    "def load_spectrograms(directory):\n",
    "    spectrograms = []\n",
    "    for file_name in os.listdir(directory):\n",
    "        if file_name.endswith(\".npy\"):\n",
    "            file_path = os.path.join(directory, file_name)\n",
    "            spectrogram = np.load(file_path)\n",
    "            spectrograms.append(spectrogram)\n",
    "    return np.array(spectrograms)\n",
    "\n",
    "# Load all spectrograms into a single NumPy array\n",
    "spectrogram_data = load_spectrograms(spectrograms_dir)\n"
   ]
  },
  {
   "cell_type": "code",
   "execution_count": 16,
   "metadata": {},
   "outputs": [
    {
     "name": "stdout",
     "output_type": "stream",
     "text": [
      "(256, 64)\n"
     ]
    }
   ],
   "source": [
    "first_sampel = spectrogram_data[0]\n",
    "# print(first_sampel)\n",
    "print(first_sampel.shape)"
   ]
  },
  {
   "cell_type": "code",
   "execution_count": 5,
   "metadata": {},
   "outputs": [
    {
     "name": "stdout",
     "output_type": "stream",
     "text": [
      "{None: {'min': np.float32(-52.512035), 'max': np.float32(27.487965)}}\n"
     ]
    }
   ],
   "source": [
    "import pandas\n",
    "import pickle\n",
    "\n",
    "with open(\"fsdd/min_max_values.pkl\",\"rb\") as file:\n",
    "    min_max_values = pickle.load(file)\n",
    "\n",
    "print(min_max_values)"
   ]
  },
  {
   "cell_type": "code",
   "execution_count": null,
   "metadata": {},
   "outputs": [],
   "source": []
  }
 ],
 "metadata": {
  "kernelspec": {
   "display_name": "aspml",
   "language": "python",
   "name": "python3"
  },
  "language_info": {
   "codemirror_mode": {
    "name": "ipython",
    "version": 3
   },
   "file_extension": ".py",
   "mimetype": "text/x-python",
   "name": "python",
   "nbconvert_exporter": "python",
   "pygments_lexer": "ipython3",
   "version": "3.12.6"
  }
 },
 "nbformat": 4,
 "nbformat_minor": 2
}
